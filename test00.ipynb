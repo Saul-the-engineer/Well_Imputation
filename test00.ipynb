{
 "cells": [
  {
   "cell_type": "markdown",
   "metadata": {},
   "source": [
    "## Import dependencies"
   ]
  },
  {
   "cell_type": "code",
   "execution_count": null,
   "metadata": {},
   "outputs": [],
   "source": [
    "import utils\n",
    "import os\n",
    "import data_classes\n",
    "import netCDF4 as nc\n",
    "import numpy as np\n",
    "import pandas as pd\n",
    "from tqdm import tqdm\n",
    "import matplotlib.pyplot as plt"
   ]
  },
  {
   "cell_type": "code",
   "execution_count": null,
   "metadata": {},
   "outputs": [],
   "source": [
    "def date_parse(date:str) -> str:\n",
    "    substring = date.split(\".\")[1]\n",
    "    year = substring[1:5]\n",
    "    month = substring[5:7]\n",
    "    day = \"01\"\n",
    "    return \"-\".join([year, month, day])\n",
    "\n",
    "def get_date_range(date_start:str, date_end:str, parse:bool=True):\n",
    "    if parse:\n",
    "        date_start = date_parse(date_start)\n",
    "        date_end = date_parse(date_end)\n",
    "    dates = pd.date_range(start=date_start, end=date_end, freq='MS')\n",
    "    return dates"
   ]
  },
  {
   "cell_type": "code",
   "execution_count": null,
   "metadata": {},
   "outputs": [],
   "source": [
    "pdsi = data_classes.PDSIData()\n",
    "variables = pdsi.variables\n",
    "files = pdsi.get_file_names()\n",
    "\n",
    "source_data_root = r'C:\\Users\\saulg\\Desktop\\Remote_Data\\pdsi'\n",
    "target_data_root = r'C:\\Users\\saulg\\Desktop\\Remote_Data\\pdsi_tabular'\n",
    "dates = get_date_range(date_start='01/01/1850', date_end='12/31/2020', parse=False)\n",
    "\n",
    "cell_names = ['Cell_' + str(i) for i in range(pdsi.n_cells)]\n",
    "data_collection = {variable: [] for variable in variables}\n",
    "\n",
    "for i, variable in enumerate(variables):\n",
    "    # step 1: open up the dataset, parse the array and flip it so that the orientation is correct\n",
    "    for j, file in tqdm(enumerate(files)):\n",
    "        dataset = nc.Dataset(os.path.join(source_data_root, file))\n",
    "        array = np.flip(dataset.variables[variable][:].data, axis=1)\n",
    "        data_collection[variable].append(array)\n",
    "\n",
    "    # step 2: squeeze arrays to make them two-dimensional\n",
    "    variable_array = np.squeeze(np.array(data_collection[variable]), axis=0)\n",
    "\n",
    "    # step 3: flatten array by rows, then reshape it based on time (rows) and cells (columns)\n",
    "    flat_variable_array = variable_array.reshape(-1, pdsi.n_cells)\n",
    "\n",
    "    # step 4: create a dataframe with the flattened array\n",
    "    variable_dataframe = pd.DataFrame(\n",
    "        flat_variable_array,\n",
    "        index= dates,  # Repeat dates for each row\n",
    "        columns=cell_names  # Repeat the created row names\n",
    "    )\n",
    "\n",
    "    print(f\"Created {variable} number {str(i + 1)} / {str(len(variables))}\")\n",
    "    utils.save_pickle(data = variable_dataframe, file_name=f\"{str(variable)}.pickle\", path = target_data_root)\n",
    "    del variable_array\n",
    "    del variable_dataframe\n",
    "    del data_collection[variable]"
   ]
  },
  {
   "cell_type": "code",
   "execution_count": null,
   "metadata": {},
   "outputs": [],
   "source": [
    "gldas = data_classes.GLDASData()\n",
    "variables = gldas.variables\n",
    "files = gldas.get_file_names()\n",
    "\n",
    "source_data_root = r'C:\\Users\\saulg\\Desktop\\Remote_Data\\GLDAS'\n",
    "target_data_root = r'C:\\Users\\saulg\\Desktop\\Remote_Data\\gldas_tabular'\n",
    "dates = get_date_range(files[0], files[-1])\n",
    "\n",
    "cell_names = ['Cell_' + str(i) for i in range(gldas.n_cells)]\n",
    "data_collection = {variable: [] for variable in variables}\n",
    "\n",
    "for i, variable in enumerate(variables):\n",
    "    # step 1: open up the dataset, parse the array and flip it so that the orientation is correct\n",
    "    for j, file in tqdm(enumerate(files)):\n",
    "        dataset = nc.Dataset(os.path.join(source_data_root, file))\n",
    "        array = np.flip(np.squeeze(dataset.variables[variable][:], axis=0).data, axis=0)\n",
    "        data_collection[variable].append(array)\n",
    "\n",
    "    # step 2: concatenate arrays to make them two-dimensional\n",
    "    variable_array = np.array(data_collection[variable])\n",
    "\n",
    "    # step 3: flatten array by rows, then reshape it based on time (rows) and cells (columns)\n",
    "    flat_variable_array = variable_array.reshape(-1, gldas.n_cells)\n",
    "\n",
    "    # step 4: create a dataframe with the flattened array\n",
    "    variable_dataframe = pd.DataFrame(\n",
    "        flat_variable_array,\n",
    "        index=dates[0:len(files)],\n",
    "        columns=cell_names[:])\n",
    "\n",
    "    print(f\"Created {variable} number {str(i + 1)} / {str(len(variables))}\")\n",
    "    utils.save_pickle(data = variable_dataframe, file_name=f\"{str(variable)}.pickle\", path = target_data_root)\n",
    "    del variable_array\n",
    "    del variable_dataframe\n",
    "    del data_collection[variable]"
   ]
  }
 ],
 "metadata": {
  "kernelspec": {
   "display_name": "gw_deep_learning",
   "language": "python",
   "name": "python3"
  },
  "language_info": {
   "codemirror_mode": {
    "name": "ipython",
    "version": 3
   },
   "file_extension": ".py",
   "mimetype": "text/x-python",
   "name": "python",
   "nbconvert_exporter": "python",
   "pygments_lexer": "ipython3",
   "version": "3.11.3"
  },
  "orig_nbformat": 4
 },
 "nbformat": 4,
 "nbformat_minor": 2
}
