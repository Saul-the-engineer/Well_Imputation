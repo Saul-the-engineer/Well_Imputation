{
 "cells": [
  {
   "cell_type": "code",
   "execution_count": 1,
   "metadata": {},
   "outputs": [],
   "source": [
    "import netCDF4 as nc\n",
    "import numpy as np\n",
    "import pandas as pd"
   ]
  },
  {
   "cell_type": "code",
   "execution_count": 2,
   "metadata": {},
   "outputs": [],
   "source": [
    "raster = nc.Dataset(\"Datasets/well_data_iter_2.nc\", 'r')"
   ]
  },
  {
   "cell_type": "code",
   "execution_count": 4,
   "metadata": {},
   "outputs": [
    {
     "name": "stderr",
     "output_type": "stream",
     "text": [
      "INFO:root:Cells have same resolution in self.x direction.\n",
      "INFO:root:The storage coefficient is set to 0.20.\n",
      "INFO:root:Calculating raster area...\n",
      "INFO:root:Area calculated.\n",
      "INFO:root:The area of the aquifer is: 0.28 million acres\n",
      "INFO:root:Calculating monthly deltas...\n",
      "INFO:root:Monthly deltas calculated.\n",
      "INFO:root:Calculating storage change...\n",
      "INFO:root:Storage change calculated.\n",
      "INFO:root:Final drawdown calculated: -2.92 million acre-feet\n"
     ]
    }
   ],
   "source": [
    "import utils_spatial\n",
    "\n",
    "out = utils_spatial.StorageChangeCalculator()\n",
    "\n",
    "ts = out.calulate_storage_curve(raster)"
   ]
  }
 ],
 "metadata": {
  "kernelspec": {
   "display_name": "groundwater_imp",
   "language": "python",
   "name": "python3"
  },
  "language_info": {
   "codemirror_mode": {
    "name": "ipython",
    "version": 3
   },
   "file_extension": ".py",
   "mimetype": "text/x-python",
   "name": "python",
   "nbconvert_exporter": "python",
   "pygments_lexer": "ipython3",
   "version": "3.11.5"
  },
  "orig_nbformat": 4
 },
 "nbformat": 4,
 "nbformat_minor": 2
}
