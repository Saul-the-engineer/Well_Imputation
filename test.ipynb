{
 "cells": [
  {
   "cell_type": "markdown",
   "metadata": {},
   "source": [
    "# STEP 1: Preprocessing PDSI and GLDAS data into Tabular Format"
   ]
  },
  {
   "cell_type": "code",
   "execution_count": null,
   "metadata": {},
   "outputs": [],
   "source": [
    "import utils\n",
    "import os\n",
    "import data_classes\n",
    "import netCDF4 as nc\n",
    "import numpy as np\n",
    "import pandas as pd\n",
    "from tqdm import tqdm\n",
    "import matplotlib.pyplot as plt"
   ]
  },
  {
   "cell_type": "code",
   "execution_count": null,
   "metadata": {},
   "outputs": [],
   "source": [
    "pdsi = data_classes.PDSIData()\n",
    "variables = pdsi.variables\n",
    "files = pdsi.get_file_names()\n",
    "\n",
    "source_data_root = r'C:\\Users\\saulg\\Desktop\\Remote_Data\\pdsi'\n",
    "target_data_root = r'C:\\Users\\saulg\\Desktop\\Remote_Data\\pdsi_tabular'\n",
    "dates = utils.get_date_range(date_start='01/01/1850', date_end='12/31/2020', parse=False)\n",
    "\n",
    "cell_names = ['Cell_' + str(i) for i in range(pdsi.n_cells)]\n",
    "data_collection = {variable: [] for variable in variables}\n",
    "\n",
    "for i, variable in enumerate(variables):\n",
    "    # step 1: open up the dataset, parse the array and flip it so that the orientation is correct\n",
    "    for j, file in tqdm(enumerate(files)):\n",
    "        dataset = nc.Dataset(os.path.join(source_data_root, file))\n",
    "        array = np.flip(dataset.variables[variable][:].data, axis=1)\n",
    "        data_collection[variable].append(array)\n",
    "\n",
    "    # step 2: squeeze arrays to make them two-dimensional\n",
    "    variable_array = np.squeeze(np.array(data_collection[variable]), axis=0)\n",
    "\n",
    "    # step 3: flatten array by rows, then reshape it based on time (rows) and cells (columns)\n",
    "    flat_variable_array = variable_array.reshape(-1, pdsi.n_cells)\n",
    "\n",
    "    # step 4: create a dataframe with the flattened array\n",
    "    variable_dataframe = pd.DataFrame(\n",
    "        flat_variable_array,\n",
    "        index= dates,  # Repeat dates for each row\n",
    "        columns=cell_names  # Repeat the created row names\n",
    "    )\n",
    "\n",
    "    print(f\"Created {variable} number {str(i + 1)} / {str(len(variables))}\")\n",
    "    utils.save_pickle(data = variable_dataframe, file_name=f\"{str(variable)}.pickle\", path = target_data_root)\n",
    "    del variable_array\n",
    "    del variable_dataframe\n",
    "    del data_collection[variable]"
   ]
  },
  {
   "cell_type": "code",
   "execution_count": null,
   "metadata": {},
   "outputs": [],
   "source": [
    "gldas = data_classes.GLDASData()\n",
    "variables = gldas.variables\n",
    "files = gldas.get_file_names()\n",
    "\n",
    "source_data_root = r'C:\\Users\\saulg\\Desktop\\Remote_Data\\GLDAS'\n",
    "target_data_root = r'C:\\Users\\saulg\\Desktop\\Remote_Data\\gldas_tabular'\n",
    "dates = utils.get_date_range(files[0], files[-1])\n",
    "\n",
    "cell_names = ['Cell_' + str(i) for i in range(gldas.n_cells)]\n",
    "data_collection = {variable: [] for variable in variables}\n",
    "\n",
    "for i, variable in enumerate(variables):\n",
    "    # step 1: open up the dataset, parse the array and flip it so that the orientation is correct\n",
    "    for j, file in tqdm(enumerate(files)):\n",
    "        dataset = nc.Dataset(os.path.join(source_data_root, file))\n",
    "        array = np.flip(np.squeeze(dataset.variables[variable][:], axis=0).data, axis=0)\n",
    "        data_collection[variable].append(array)\n",
    "\n",
    "    # step 2: concatenate arrays to make them two-dimensional\n",
    "    variable_array = np.array(data_collection[variable])\n",
    "\n",
    "    # step 3: flatten array by rows, then reshape it based on time (rows) and cells (columns)\n",
    "    flat_variable_array = variable_array.reshape(-1, gldas.n_cells)\n",
    "\n",
    "    # step 4: create a dataframe with the flattened array\n",
    "    variable_dataframe = pd.DataFrame(\n",
    "        flat_variable_array,\n",
    "        index=dates[0:len(files)],\n",
    "        columns=cell_names[:])\n",
    "\n",
    "    print(f\"Created {variable} number {str(i + 1)} / {str(len(variables))}\")\n",
    "    utils.save_pickle(data = variable_dataframe, file_name=f\"{str(variable)}.pickle\", path = target_data_root)\n",
    "    del variable_array\n",
    "    del variable_dataframe\n",
    "    del data_collection[variable]"
   ]
  },
  {
   "cell_type": "markdown",
   "metadata": {},
   "source": [
    "# Step 2: Transform PDSI, GLDAS, and Well Observations into format for ML"
   ]
  },
  {
   "cell_type": "code",
   "execution_count": null,
   "metadata": {},
   "outputs": [],
   "source": [
    "import utils\n",
    "import pandas as pd\n",
    "import matplotlib.pyplot as plt"
   ]
  },
  {
   "cell_type": "code",
   "execution_count": null,
   "metadata": {},
   "outputs": [],
   "source": [
    "path_shape = '/home/saul/workspace/Well_Imputation/Aquifer Shapes/Beryl_Enterprise.shp'\n",
    "aquifer_shape = utils.load_shapefile(path_shape)"
   ]
  },
  {
   "cell_type": "code",
   "execution_count": null,
   "metadata": {},
   "outputs": [],
   "source": [
    "# parse pdsi data and save it\n",
    "directory_pdsi = r\"/mnt/c/Users/saulg/Desktop/Remote_Data/pdsi_tabular\"\n",
    "pdsi = utils.pull_relevant_data(aquifer_shape, dataset_name=\"PDSI\", dataset_directory=directory_pdsi)\n",
    "utils.save_pickle(pdsi, \"pdsi_data.pickle\", \"Datasets/\")"
   ]
  },
  {
   "cell_type": "code",
   "execution_count": null,
   "metadata": {},
   "outputs": [],
   "source": [
    "# parse the GLDAS data and save it\n",
    "directory_gldas = r\"/mnt/c/Users/saulg/Desktop/Remote_Data/gldas_tabular\"\n",
    "gldas = utils.pull_relevant_data(aquifer_shape, dataset_name=\"GLDAS\", dataset_directory=directory_gldas)\n",
    "utils.save_pickle(gldas, \"gldas_data.pickle\", \"Datasets/\")"
   ]
  },
  {
   "cell_type": "code",
   "execution_count": null,
   "metadata": {},
   "outputs": [],
   "source": [
    "# Process well data from csv files\n",
    "well_locations = pd.read_csv(\"Aquifers Data/EscalanteBerylLocation.csv\")\n",
    "well_timeseries = pd.read_csv(\"Aquifers Data/EscalanteBerylTimeseries.csv\")\n",
    "data = utils.transform_well_data(well_timeseries, well_locations)\n",
    "utils.save_pickle(data, \"BerylEnterpriseData.pickle\", \"./Datasets/\")\n"
   ]
  },
  {
   "cell_type": "code",
   "execution_count": null,
   "metadata": {},
   "outputs": [],
   "source": [
    "# Plot the timeseries data to see if it looks reasonable\n",
    "plt.plot(data[\"timeseries\"], '-.')\n",
    "plt.show()"
   ]
  },
  {
   "cell_type": "markdown",
   "metadata": {},
   "source": [
    "# Step 3: Develop initial imputation model"
   ]
  },
  {
   "cell_type": "markdown",
   "metadata": {},
   "source": []
  },
  {
   "cell_type": "markdown",
   "metadata": {},
   "source": [
    "# Step 4: Develop iterative refinement model"
   ]
  },
  {
   "cell_type": "markdown",
   "metadata": {},
   "source": []
  },
  {
   "cell_type": "markdown",
   "metadata": {},
   "source": [
    "# Step 5: Analyze spatial characteristics of imputation model"
   ]
  },
  {
   "cell_type": "code",
   "execution_count": null,
   "metadata": {},
   "outputs": [],
   "source": []
  },
  {
   "cell_type": "markdown",
   "metadata": {},
   "source": [
    "# Step 6: Calculate Storage Change"
   ]
  },
  {
   "cell_type": "markdown",
   "metadata": {},
   "source": []
  }
 ],
 "metadata": {
  "kernelspec": {
   "display_name": "Geospatial",
   "language": "python",
   "name": "python3"
  },
  "language_info": {
   "codemirror_mode": {
    "name": "ipython",
    "version": 3
   },
   "file_extension": ".py",
   "mimetype": "text/x-python",
   "name": "python",
   "nbconvert_exporter": "python",
   "pygments_lexer": "ipython3",
   "version": "3.11.5"
  },
  "orig_nbformat": 4
 },
 "nbformat": 4,
 "nbformat_minor": 2
}
