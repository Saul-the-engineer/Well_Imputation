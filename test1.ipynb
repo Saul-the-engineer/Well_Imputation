{
 "cells": [
  {
   "cell_type": "code",
   "execution_count": 1,
   "metadata": {},
   "outputs": [],
   "source": [
    "import netCDF4 as nc\n",
    "import numpy as np\n",
    "import pandas as pd"
   ]
  },
  {
   "cell_type": "code",
   "execution_count": 2,
   "metadata": {},
   "outputs": [],
   "source": [
    "raster = nc.Dataset(\"Datasets/well_data_iter_2.nc\", 'r')"
   ]
  },
  {
   "cell_type": "code",
   "execution_count": 3,
   "metadata": {},
   "outputs": [
    {
     "name": "stderr",
     "output_type": "stream",
     "text": [
      "INFO:root:Cells have same resolution in self.x direction.\n",
      "INFO:root:The storage coefficient is set to 0.20.\n",
      "INFO:root:Calculating raster area...\n",
      "INFO:root:Area calculated.\n",
      "INFO:root:The area of the aquifer is: 0.28 million acres\n",
      "INFO:root:Calculating monthly deltas...\n",
      "INFO:root:Monthly deltas calculated.\n",
      "INFO:root:Calculating storage change...\n",
      "INFO:root:Storage change calculated.\n",
      "INFO:root:Filtering storage change curve...\n",
      "INFO:root:Storage change curve filtered.\n",
      "INFO:root:Final drawdown calculated: 0.01 million acre-feet\n"
     ]
    },
    {
     "name": "stdout",
     "output_type": "stream",
     "text": [
      "1948-01-01 00:00:00 1948-03-01 00:00:00\n"
     ]
    }
   ],
   "source": [
    "import utils_spatial\n",
    "\n",
    "out = utils_spatial.StorageChangeCalculator()\n",
    "\n",
    "ts = out.calulate_storage_curve(raster, (\"1948-01-01\", \"1948-03-01\"))"
   ]
  },
  {
   "cell_type": "code",
   "execution_count": null,
   "metadata": {},
   "outputs": [],
   "source": []
  },
  {
   "cell_type": "code",
   "execution_count": null,
   "metadata": {},
   "outputs": [],
   "source": [
    "datetime_stamps = raster[\"time\"][:]\n",
    "datetime_stamps"
   ]
  },
  {
   "cell_type": "code",
   "execution_count": null,
   "metadata": {},
   "outputs": [],
   "source": [
    "datetime_units = raster[\"time\"].units\n",
    "datetime_units"
   ]
  },
  {
   "cell_type": "code",
   "execution_count": null,
   "metadata": {},
   "outputs": [],
   "source": [
    "import datetime as dt\n",
    "reference_date_str = datetime_units.split(\" \")[-2]\n",
    "reference_date = dt.datetime.strptime(reference_date_str, \"%Y-%m-%d\")\n",
    "julian_dates = np.array([reference_date + dt.timedelta(days=int(d)) for d in datetime_stamps], dtype='datetime64[D]')\n",
    "julian_dates = pd.to_datetime(julian_dates)"
   ]
  },
  {
   "cell_type": "code",
   "execution_count": null,
   "metadata": {},
   "outputs": [],
   "source": [
    "datetime_stamps = nc.num2date(raster[\"time\"][:], datetime_units)\n",
    "datetime_stamps"
   ]
  },
  {
   "cell_type": "code",
   "execution_count": null,
   "metadata": {},
   "outputs": [],
   "source": [
    "type(raster[\"time\"])"
   ]
  },
  {
   "cell_type": "code",
   "execution_count": null,
   "metadata": {},
   "outputs": [],
   "source": [
    "type(datetime_units)"
   ]
  },
  {
   "cell_type": "code",
   "execution_count": null,
   "metadata": {},
   "outputs": [],
   "source": [
    "from netCDF4 import Variable"
   ]
  },
  {
   "cell_type": "code",
   "execution_count": null,
   "metadata": {},
   "outputs": [],
   "source": [
    "\n",
    "# Convert cftime objects to Pandas Timestamp objects\n",
    "timestamp_objects = [pd.Timestamp(dt.strftime(\"%Y-%m-%d %H:%M:%S\")) for dt in datetime_stamps]\n",
    "\n",
    "# Create a Pandas DatetimeIndex from the Timestamp objects\n",
    "datetime_index = pd.DatetimeIndex(timestamp_objects)"
   ]
  },
  {
   "cell_type": "code",
   "execution_count": null,
   "metadata": {},
   "outputs": [],
   "source": [
    "# Example Julian day and reference date (change these to match your dataset)\n",
    "julian_day = 2459000.5  # Example Julian day\n",
    "reference_date = '1858-11-17'  # Example reference date\n",
    "\n",
    "# Convert Julian day to datetime\n",
    "datetime_obj = pd.to_datetime(julian_day, unit='D', origin=reference_date)\n",
    "\n",
    "print(datetime_obj)"
   ]
  },
  {
   "cell_type": "code",
   "execution_count": null,
   "metadata": {},
   "outputs": [],
   "source": [
    "import pandas as pd\n",
    "\n",
    "# convert datetime stamps to pandas datetime from ordinal\n",
    "datetime_stamps_1 = pd.to_datetime(datetime_stamps[0], unit='D', origin='julian')"
   ]
  }
 ],
 "metadata": {
  "kernelspec": {
   "display_name": "groundwater_imp",
   "language": "python",
   "name": "python3"
  },
  "language_info": {
   "codemirror_mode": {
    "name": "ipython",
    "version": 3
   },
   "file_extension": ".py",
   "mimetype": "text/x-python",
   "name": "python",
   "nbconvert_exporter": "python",
   "pygments_lexer": "ipython3",
   "version": "3.11.5"
  },
  "orig_nbformat": 4
 },
 "nbformat": 4,
 "nbformat_minor": 2
}
