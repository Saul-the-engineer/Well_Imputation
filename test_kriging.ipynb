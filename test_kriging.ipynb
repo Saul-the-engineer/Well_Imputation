{
 "cells": [
  {
   "cell_type": "code",
   "execution_count": 6,
   "metadata": {},
   "outputs": [],
   "source": [
    "import utils_spatial\n",
    "import utils\n",
    "import matplotlib.pyplot as plt"
   ]
  },
  {
   "cell_type": "code",
   "execution_count": 7,
   "metadata": {},
   "outputs": [],
   "source": [
    "polygon = utils.load_shapefile(\"Aquifer Shapes/Beryl_Enterprise.shp\")"
   ]
  },
  {
   "cell_type": "code",
   "execution_count": 8,
   "metadata": {},
   "outputs": [
    {
     "name": "stderr",
     "output_type": "stream",
     "text": [
      "INFO:root:Longitude range is: 0.512.\n",
      "INFO:root:Latitude range is: 0.44.\n",
      "INFO:root:Grid Resolution is 0.005.\n"
     ]
    }
   ],
   "source": [
    "grid1, grid2, masked_array = utils_spatial.create_spatial_grid(polygon, n_x_cells=100)"
   ]
  },
  {
   "cell_type": "code",
   "execution_count": 9,
   "metadata": {},
   "outputs": [
    {
     "data": {
      "image/png": "[encoded data removed]",
      "text/plain": [
       "<Figure size 640x480 with 1 Axes>"
      ]
     },
     "metadata": {},
     "output_type": "display_data"
    }
   ],
   "source": [
    "plt.imshow(masked_array)\n",
    "plt.title('Aquifer Boundary')\n",
    "plt.show()"
   ]
  },
  {
   "cell_type": "code",
   "execution_count": 10,
   "metadata": {},
   "outputs": [
    {
     "name": "stderr",
     "output_type": "stream",
     "text": [
      "INFO:utils:Pickle file 'Datasets/Well_Data_Imputed_iteration_2.pickle' loaded successfully from './'\n",
      "INFO:root:Longitude range is: 0.512.\n",
      "INFO:root:Latitude range is: 0.44.\n",
      "INFO:root:Grid Resolution is 0.005.\n",
      "INFO:root:Processing date: 1948-01-01 00:00:00\n"
     ]
    },
    {
     "name": "stdout",
     "output_type": "stream",
     "text": [
      "Error creating NetCDF file: [Errno 13] Permission denied: 'Datasets/interpolation.nc'\n"
     ]
    },
    {
     "ename": "TypeError",
     "evalue": "'NoneType' object does not support item assignment",
     "output_type": "error",
     "traceback": [
      "\u001b[0;31m---------------------------------------------------------------------------\u001b[0m",
      "\u001b[0;31mTypeError\u001b[0m                                 Traceback (most recent call last)",
      "\u001b[1;32m/home/saul/workspace/Well_Imputation/test_kriging.ipynb Cell 5\u001b[0m line \u001b[0;36m1\n\u001b[0;32m----> <a href='vscode-notebook-cell://wsl%2Bubuntu/home/saul/workspace/Well_Imputation/test_kriging.ipynb#W4sdnNjb2RlLXJlbW90ZQ%3D%3D?line=0'>1</a>\u001b[0m utils_spatial\u001b[39m.\u001b[39;49mkriging_interpolation(\n\u001b[1;32m      <a href='vscode-notebook-cell://wsl%2Bubuntu/home/saul/workspace/Well_Imputation/test_kriging.ipynb#W4sdnNjb2RlLXJlbW90ZQ%3D%3D?line=1'>2</a>\u001b[0m     data_pickle_path\u001b[39m=\u001b[39;49m\u001b[39m'\u001b[39;49m\u001b[39mDatasets/Well_Data_Imputed_iteration_2.pickle\u001b[39;49m\u001b[39m'\u001b[39;49m,\n\u001b[1;32m      <a href='vscode-notebook-cell://wsl%2Bubuntu/home/saul/workspace/Well_Imputation/test_kriging.ipynb#W4sdnNjb2RlLXJlbW90ZQ%3D%3D?line=2'>3</a>\u001b[0m     shape_file_path\u001b[39m=\u001b[39;49m\u001b[39m'\u001b[39;49m\u001b[39mAquifer Shapes/Beryl_Enterprise.shp\u001b[39;49m\u001b[39m'\u001b[39;49m,\n\u001b[1;32m      <a href='vscode-notebook-cell://wsl%2Bubuntu/home/saul/workspace/Well_Imputation/test_kriging.ipynb#W4sdnNjb2RlLXJlbW90ZQ%3D%3D?line=3'>4</a>\u001b[0m     directory\u001b[39m=\u001b[39;49m\u001b[39m\"\u001b[39;49m\u001b[39mDatasets\u001b[39;49m\u001b[39m\"\u001b[39;49m,\n\u001b[1;32m      <a href='vscode-notebook-cell://wsl%2Bubuntu/home/saul/workspace/Well_Imputation/test_kriging.ipynb#W4sdnNjb2RlLXJlbW90ZQ%3D%3D?line=4'>5</a>\u001b[0m )\n",
      "File \u001b[0;32m~/workspace/Well_Imputation/utils_spatial.py:62\u001b[0m, in \u001b[0;36mkriging_interpolation\u001b[0;34m(data_pickle_path, shape_file_path, n_x_cells, monthly_time_step, netcdf_filename, directory, influence_distance)\u001b[0m\n\u001b[1;32m     51\u001b[0m grid_longitude, grid_latitude, mask_array \u001b[39m=\u001b[39m create_spatial_grid(\n\u001b[1;32m     52\u001b[0m     polygon\u001b[39m=\u001b[39mpolygon, n_x_cells\u001b[39m=\u001b[39mn_x_cells\n\u001b[1;32m     53\u001b[0m )\n\u001b[1;32m     54\u001b[0m file_nc, raster_data \u001b[39m=\u001b[39m create_netcdf_file(\n\u001b[1;32m     55\u001b[0m     longitude\u001b[39m=\u001b[39mgrid_longitude,\n\u001b[1;32m     56\u001b[0m     latitude\u001b[39m=\u001b[39mgrid_latitude,\n\u001b[0;32m   (...)\u001b[0m\n\u001b[1;32m     59\u001b[0m     data_root\u001b[39m=\u001b[39mdirectory,\n\u001b[1;32m     60\u001b[0m )\n\u001b[0;32m---> 62\u001b[0m create_interpolated_surfaces(\n\u001b[1;32m     63\u001b[0m     timeseries_data\u001b[39m=\u001b[39;49mdata_measurements,\n\u001b[1;32m     64\u001b[0m     longitude\u001b[39m=\u001b[39;49mx_coordinates,\n\u001b[1;32m     65\u001b[0m     latitude\u001b[39m=\u001b[39;49my_coordinates,\n\u001b[1;32m     66\u001b[0m     grid_longitude\u001b[39m=\u001b[39;49mgrid_longitude,\n\u001b[1;32m     67\u001b[0m     grid_latitude\u001b[39m=\u001b[39;49mgrid_latitude,\n\u001b[1;32m     68\u001b[0m     file_nc\u001b[39m=\u001b[39;49mfile_nc,\n\u001b[1;32m     69\u001b[0m     raster_data\u001b[39m=\u001b[39;49mraster_data,\n\u001b[1;32m     70\u001b[0m     mask_array\u001b[39m=\u001b[39;49mmask_array,\n\u001b[1;32m     71\u001b[0m     influence_distance\u001b[39m=\u001b[39;49minfluence_distance,\n\u001b[1;32m     72\u001b[0m )\n\u001b[1;32m     73\u001b[0m \u001b[39mreturn\u001b[39;00m\n",
      "File \u001b[0;32m~/workspace/Well_Imputation/utils_spatial.py:257\u001b[0m, in \u001b[0;36mcreate_interpolated_surfaces\u001b[0;34m(timeseries_data, longitude, latitude, grid_longitude, grid_latitude, file_nc, raster_data, mask_array, influence_distance)\u001b[0m\n\u001b[1;32m    244\u001b[0m     variogram \u001b[39m=\u001b[39m fit_model_variogram(\n\u001b[1;32m    245\u001b[0m         point_coordinates\u001b[39m=\u001b[39mpoint_coordinates,\n\u001b[1;32m    246\u001b[0m         values\u001b[39m=\u001b[39mvalues,\n\u001b[1;32m    247\u001b[0m         influence_distance\u001b[39m=\u001b[39minfluence_distance,\n\u001b[1;32m    248\u001b[0m     )\n\u001b[1;32m    249\u001b[0m     surface \u001b[39m=\u001b[39m interpolate_surface(\n\u001b[1;32m    250\u001b[0m         variogram\u001b[39m=\u001b[39mvariogram,\n\u001b[1;32m    251\u001b[0m         point_coords\u001b[39m=\u001b[39mpoint_coordinates,\n\u001b[0;32m   (...)\u001b[0m\n\u001b[1;32m    255\u001b[0m         mask_array\u001b[39m=\u001b[39mmask_array,\n\u001b[1;32m    256\u001b[0m     )\n\u001b[0;32m--> 257\u001b[0m     raster_data[i, :, :] \u001b[39m=\u001b[39m surface\u001b[39m.\u001b[39mfield\u001b[39m.\u001b[39mT\n\u001b[1;32m    258\u001b[0m file_nc\u001b[39m.\u001b[39msync()\n\u001b[1;32m    259\u001b[0m file_nc\u001b[39m.\u001b[39mclose()\n",
      "\u001b[0;31mTypeError\u001b[0m: 'NoneType' object does not support item assignment"
     ]
    }
   ],
   "source": [
    "utils_spatial.kriging_interpolation(\n",
    "    data_pickle_path='Datasets/Well_Data_Imputed_iteration_2.pickle',\n",
    "    shape_file_path='Aquifer Shapes/Beryl_Enterprise.shp',\n",
    "    directory=\"Datasets\",\n",
    ")"
   ]
  }
 ],
 "metadata": {
  "kernelspec": {
   "display_name": "groundwater_imp",
   "language": "python",
   "name": "python3"
  },
  "language_info": {
   "codemirror_mode": {
    "name": "ipython",
    "version": 3
   },
   "file_extension": ".py",
   "mimetype": "text/x-python",
   "name": "python",
   "nbconvert_exporter": "python",
   "pygments_lexer": "ipython3",
   "version": "3.11.5"
  },
  "orig_nbformat": 4
 },
 "nbformat": 4,
 "nbformat_minor": 2
}
