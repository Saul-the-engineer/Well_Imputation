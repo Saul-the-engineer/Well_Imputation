{
 "cells": [
  {
   "cell_type": "code",
   "execution_count": null,
   "metadata": {},
   "outputs": [],
   "source": [
    "import utils\n",
    "import pandas as pd\n",
    "\n",
    "path_shape = '/home/saul/workspace/Well_Imputation/Aquifer Shapes/Beryl_Enterprise.shp'\n",
    "aquifer_shape = utils.load_shapefile(path_shape)"
   ]
  },
  {
   "cell_type": "code",
   "execution_count": null,
   "metadata": {},
   "outputs": [],
   "source": [
    "# parse pdsi data and save it\n",
    "directory_pdsi = r\"/mnt/c/Users/saulg/Desktop/Remote_Data/pdsi_tabular\"\n",
    "pdsi = utils.pull_relevant_data(aquifer_shape, dataset_name=\"PDSI\", dataset_directory=directory_pdsi)\n",
    "utils.save_pickle(pdsi, \"pdsi_data.pickle\", \"Datasets/\")"
   ]
  },
  {
   "cell_type": "code",
   "execution_count": null,
   "metadata": {},
   "outputs": [],
   "source": [
    "# parse the GLDAS data and save it\n",
    "directory_gldas = r\"/mnt/c/Users/saulg/Desktop/Remote_Data/gldas_tabular\"\n",
    "gldas = utils.pull_relevant_data(aquifer_shape, dataset_name=\"GLDAS\", dataset_directory=directory_gldas)\n",
    "utils.save_pickle(gldas, \"gldas_data.pickle\", \"Datasets/\")"
   ]
  },
  {
   "cell_type": "code",
   "execution_count": null,
   "metadata": {},
   "outputs": [],
   "source": [
    "# Process well data from csv files\n",
    "well_locations = pd.read_csv(\"Aquifers Data/EscalanteBerylLocation.csv\")\n",
    "well_timeseries = pd.read_csv(\"Aquifers Data/EscalanteBerylTimeseries.csv\")\n",
    "data = utils.transform_well_data(well_timeseries, well_locations)\n",
    "utils.save_pickle(data, \"BerylEnterpriseData.pickle\", \"./Datasets/\")\n"
   ]
  },
  {
   "cell_type": "code",
   "execution_count": null,
   "metadata": {},
   "outputs": [],
   "source": [
    "# Plot the timeseries data to see if it looks reasonable\n",
    "import matplotlib.pyplot as plt\n",
    "plt.plot(data[\"timeseries\"], '-.')\n",
    "plt.show()"
   ]
  }
 ],
 "metadata": {
  "kernelspec": {
   "display_name": "Geospatial",
   "language": "python",
   "name": "python3"
  },
  "language_info": {
   "codemirror_mode": {
    "name": "ipython",
    "version": 3
   },
   "file_extension": ".py",
   "mimetype": "text/x-python",
   "name": "python",
   "nbconvert_exporter": "python",
   "pygments_lexer": "ipython3",
   "version": "3.11.5"
  },
  "orig_nbformat": 4
 },
 "nbformat": 4,
 "nbformat_minor": 2
}
