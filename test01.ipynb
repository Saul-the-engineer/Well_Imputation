{
 "cells": [
  {
   "cell_type": "code",
   "execution_count": null,
   "metadata": {},
   "outputs": [],
   "source": [
    "import utils\n",
    "import pandas as pd\n",
    "\n",
    "path_shape = '.\\Aquifer Shapes\\Beryl_Enterprise.shp'\n",
    "aquifer_shape = utils.load_shapefile(path_shape)"
   ]
  },
  {
   "cell_type": "code",
   "execution_count": null,
   "metadata": {},
   "outputs": [],
   "source": [
    "path_pdsi = r\"C:\\Users\\saulg\\Desktop\\Remote_Data\\pdsi_tabular\"\n",
    "pdsi = utils.pull_relevant_data(aquifer_shape, dataset_name=\"PDSI\", dataset_path=path_pdsi)\n",
    "utils.save_pickle(pdsi, \"pdsi_data.pickle\", \"./Datasets/\")"
   ]
  },
  {
   "cell_type": "code",
   "execution_count": null,
   "metadata": {},
   "outputs": [],
   "source": [
    "path_gldas = r\"C:\\Users\\saulg\\Desktop\\Remote_Data\\gldas_tabular\"\n",
    "gldas = utils.pull_relevant_data(aquifer_shape, dataset_name=\"GLDAS\", dataset_path=path_gldas)\n",
    "utils.save_pickle(gldas, \"gldas_data.pickle\", \"./Datasets/\")"
   ]
  },
  {
   "cell_type": "code",
   "execution_count": null,
   "metadata": {},
   "outputs": [],
   "source": [
    "well_locations = pd.read_csv(r\"C:\\Users\\saulg\\OneDrive\\Projects\\well_imputation_2.0\\Aquifers Data/EscalanteBerylLocation.csv\")\n",
    "well_timeseries = pd.read_csv(r\"C:\\Users\\saulg\\OneDrive\\Projects\\well_imputation_2.0\\Aquifers Data/EscalanteBerylTimeseries.csv\")\n",
    "raw_data = utils.make_well_dict(well_timeseries = well_timeseries, well_locations = well_locations)\n",
    "data = utils.process_well_data(timeseries = raw_data[\"timeseries_raw\"], locations = raw_data[\"locations_raw\"])\n",
    "data = utils.merge_dictionaries(data, raw_data)\n",
    "utils.save_pickle(data, \"BerylEnterpriseData.pickle\", \"./Datasets/\")\n"
   ]
  },
  {
   "cell_type": "code",
   "execution_count": null,
   "metadata": {},
   "outputs": [],
   "source": [
    "import matplotlib.pyplot as plt\n",
    "\n",
    "plt.plot(data[\"timeseries\"], '-.')\n",
    "plt.show()"
   ]
  }
 ],
 "metadata": {
  "kernelspec": {
   "display_name": "Geospatial",
   "language": "python",
   "name": "python3"
  },
  "language_info": {
   "codemirror_mode": {
    "name": "ipython",
    "version": 3
   },
   "file_extension": ".py",
   "mimetype": "text/x-python",
   "name": "python",
   "nbconvert_exporter": "python",
   "pygments_lexer": "ipython3",
   "version": "3.11.3"
  },
  "orig_nbformat": 4
 },
 "nbformat": 4,
 "nbformat_minor": 2
}
